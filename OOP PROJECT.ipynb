{
 "cells": [
  {
   "cell_type": "markdown",
   "id": "dd6ee0f6-ca51-4359-956b-86adc2286bdc",
   "metadata": {},
   "source": [
    "Create a class called \"Account\" that has the following attributes:\n",
    "\n",
    "account_number (string)\n",
    "account_balance (float)\n",
    "account_holder (string)\n",
    "The class should have the following methods:\n",
    "\n",
    "deposit(amount: float) - This method should add the amount passed as an argument to the account balance.\n",
    "withdraw(amount: float) - This method should subtract the amount passed as an argument from the account balance, but only if the account balance is greater than the amount being withdrawn.\n",
    "check_balance() - This method should return the current account balance.\n",
    "\n",
    "Instructions\n",
    "\n",
    "Create a new file called \"bank_account.py\"\n",
    "Define the Account class and its attributes as specified above.\n",
    "Define the deposit() method. It should take in one argument, the amount to be deposited, and add it to the account balance.\n",
    "Define the withdraw() method. It should take in one argument, the amount to be withdrawn, and subtract it from the account balance. The method should only execute the withdrawal if the account balance is greater than or equal to the amount to be withdrawn.\n",
    "Define the check_balance() method. It should return the current account balance.\n",
    "Create an instance of the Account class, and assign it to a variable called \"my_account\".\n",
    "Use the methods of the class to deposit and withdraw money from the account, and check the account balance.\n",
    "Test the program by creating multiple instances of the class and performing different transactions on them."
   ]
  },
  {
   "cell_type": "code",
   "execution_count": null,
   "id": "bd91d873-115c-4277-ac4d-63ea16d50e83",
   "metadata": {
    "scrolled": true
   },
   "outputs": [],
   "source": [
    "class Account:\n",
    "    def __init__(self, account_number: str, account_balance: float, account_holder: str):\n",
    "        self.account_number = account_number\n",
    "        self.account_balance = account_balance\n",
    "        self.account_holder = account_holder\n",
    "        \n",
    "    def deposit(self, amount: float):\n",
    "        if amount > 0:\n",
    "            self.account_balance += amount\n",
    "            print(f\"Deposited #{amount:.2f}. New balance: #{self.account_balance:.2f}\")\n",
    "        else:\n",
    "            print(\"Deposit amount must be greater than 0.\")\n",
    "            \n",
    "    def withdraw(self, amount: float):\n",
    "        if self.account_balance < amount:\n",
    "            print(\"you have insufficient funds.\")\n",
    "        elif amount <= 0:\n",
    "            print(\"Amount must be greater than zero\")\n",
    "        else:\n",
    "            self.account_balance -= amount\n",
    "            print(f\"Withdrew #{amount:.2f}. New balance: #{self.account_balance:.2f}\")\n",
    "\n",
    "    def check_balance(self):\n",
    "        \"\"\"\n",
    "        Return the current account balance.\n",
    "        \"\"\"\n",
    "        return self.account_balance\n",
    "        \n",
    "    #create an instance for the Acoount class\n",
    "    my_account1 = Account(\"0221685155\", 5000.0, \"Tobi\")\n",
    "    \n",
    "    #deposit money\n",
    "    my_account1.deposit(600)\n",
    "    \n",
    "    #money withdrawal\n",
    "    my_account1.withdraw(500)\n",
    "\n",
    "    #check balance\n",
    "    print(f\"{my_account1.account_holder}'s balance: #{my_account1.check_balance():.2f}\")\n",
    "    \n",
    "    #set and update new account balance\n",
    "    my_account1.account_balance = 7800\n",
    "\n",
    "    print(f\"{my_account1.account_holder}'s balance for the end of the month of June is {my_account1.check_balance():.2f}\")\n",
    "    \n",
    "    #Test with another instance\n",
    "    my_account2 = Account(\"1020212852\", 400.0, \"Anuoluwa\")\n",
    "    my_account2.deposit(600)\n",
    "    my_account2.withdraw(500)\n",
    "    print(f\"{my_account2.account_holder}'s balance: #{my_account2.check_balance():.2f}\")\n",
    "    \n",
    "\n",
    "    \n",
    "    "
   ]
  }
 ],
 "metadata": {
  "kernelspec": {
   "display_name": "Python 3 (ipykernel)",
   "language": "python",
   "name": "python3"
  },
  "language_info": {
   "codemirror_mode": {
    "name": "ipython",
    "version": 3
   },
   "file_extension": ".py",
   "mimetype": "text/x-python",
   "name": "python",
   "nbconvert_exporter": "python",
   "pygments_lexer": "ipython3",
   "version": "3.12.7"
  }
 },
 "nbformat": 4,
 "nbformat_minor": 5
}
