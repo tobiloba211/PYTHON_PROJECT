{
 "cells": [
  {
   "cell_type": "markdown",
   "id": "308ac069-9099-4b6a-8d91-bf927dee2f80",
   "metadata": {},
   "source": [
    "What You're Aiming For\n",
    "\n",
    "In this checkpoint, we are going to work on the billing history of the Tunisian electricity and gas company and apply what you learned in pre-processing chapter.\n",
    "\n",
    "Dataset description : \n",
    "\n",
    "The provided dataset contains the billing history of the Tunisian electricity and gas company's customers from 2005 to 2019.\n",
    "\n",
    "➡️ Dataset link\n",
    "\n",
    "https://i.imgur.com/AaBqRR5.png\n",
    "\n",
    "Instructions\n",
    "\n",
    "Load the dataset, display the ten first lines, store the results in a variable called 'client_0_bills'.\n",
    "What is the data type of the 'client_0_bills' variable ?\n",
    "Display the general information of the dataset and try to answer the following questions : \n",
    "How many rows and columns do we have in this dataset ?\n",
    "How many categorical features are present in the dataset ?\n",
    "How much memory space does the dataset consume ?\n",
    "Inspect the dataset for potential missing values.\n",
    "Select your strategy to handle missing values, and tell us why you had made that choice.\n",
    "Run a descriptive analysis on numeric features (columns).\n",
    "Select the bills records for the client with an id ='train_Client_0', using 2 methods.\n",
    "Transform the 'counter_type' feature to a numeric variable using the encoder of your choice.\n",
    "Delete the 'counter_statue' feature from the Dataframe"
   ]
  },
  {
   "cell_type": "code",
   "execution_count": null,
   "id": "edeb84d7-a4ad-46fb-a828-a42853f4c1a3",
   "metadata": {},
   "outputs": [],
   "source": [
    "import pandas as pd"
   ]
  },
  {
   "cell_type": "code",
   "execution_count": null,
   "id": "e4a77d68-b40a-402c-ba6f-c356d10d6efc",
   "metadata": {},
   "outputs": [],
   "source": [
    "file_path = r\"C:\\Users\\HP\\OneDrive\\Desktop\\DATA SCIENCE BOOTCAMP\\PYPHON\\PYTHON NOOTBOOK\\STEG_BILLING_HISTORY.csv\"\n",
    "\n",
    "df = pd.read_csv(file_path)\n",
    "\n",
    "client_0_bills = df.head(10)\n",
    "\n",
    "print(client_0_bills)\n",
    "\n"
   ]
  },
  {
   "cell_type": "code",
   "execution_count": null,
   "id": "96cd885d-e316-4890-b871-d4bb6604a3cc",
   "metadata": {
    "scrolled": true
   },
   "outputs": [],
   "source": [
    "\n",
    "#Display the general information of the dataset and try to answer the following questions : \n",
    "df.info()\n",
    "\n",
    "\n",
    "# How many rows and columns do we have in this dataset ? \n",
    "We have 4476749 Rows and 16 Columns\n",
    "\n",
    "#How many categorical features are present in the dataset ?\n",
    "categorical_features = df.select_dtypes(include=[\"category\"]).columns\n",
    "print(f\"Categorical features: {len(categorical_features)}\")\n",
    "\n",
    "\n",
    "\n",
    "#How much memory space does the dataset consume ?\n",
    "memory usage: 546.5+ MB\n",
    "\n",
    "\n"
   ]
  },
  {
   "cell_type": "code",
   "execution_count": null,
   "id": "b15d33ac-3865-4cf8-955d-08544324c7c8",
   "metadata": {},
   "outputs": [],
   "source": [
    "#Inspect the dataset for potential missing values.\n",
    "\n",
    "missing_values = df.isnull().sum()\n",
    "print(missing_values)\n",
    "\n",
    "#there is no missing values"
   ]
  },
  {
   "cell_type": "code",
   "execution_count": null,
   "id": "e21630cc-cdca-497a-a06c-4676541137be",
   "metadata": {},
   "outputs": [],
   "source": [
    "# Example strategy\n",
    "df.fillna({\n",
    "    'counter_number': df['counter_number'].mean(),\n",
    "    'reading_remarque':df['reading_remarque'].mode()\n",
    "}, inplace=True)\n"
   ]
  },
  {
   "cell_type": "code",
   "execution_count": null,
   "id": "0f4ad06e-57dd-4f14-ac8f-577aa0f1735a",
   "metadata": {},
   "outputs": [],
   "source": [
    "#Run a descriptive analysis on numeric features (columns).\n",
    "\n",
    "df.describe()"
   ]
  },
  {
   "cell_type": "code",
   "execution_count": 158,
   "id": "abe10288-2f80-4365-a358-6c73171f4b7e",
   "metadata": {},
   "outputs": [],
   "source": [
    "#Select the bills records for the client with an id ='train_Client_0', using 2 methods.\n",
    "\n",
    "bill_records = df.query(\"client_id == 'train_Client_0'\")\n",
    "\n",
    "bill_records = df[df['client_id'] == 'train_Client_0']\n"
   ]
  },
  {
   "cell_type": "code",
   "execution_count": null,
   "id": "12b09262-3830-42ab-8b6d-9e2f0a38c610",
   "metadata": {},
   "outputs": [],
   "source": [
    "#Transform the 'counter_type' feature to a numeric variable using the encoder of your choice.\n",
    "from sklearn.preprocessing import LabelEncoder\n",
    "\n",
    "encoder = LabelEncoder()\n",
    "df['counter_type_numeric'] = encoder.fit_transform(df['counter_type'])\n"
   ]
  },
  {
   "cell_type": "code",
   "execution_count": null,
   "id": "c319f15f-7cbe-4ab2-a92d-18b2a4f80f89",
   "metadata": {},
   "outputs": [],
   "source": [
    "#Delete the 'counter_statue' feature from the Dataframe\n",
    "\n",
    "df.drop('counter_statue', axis=1, inplace=True)"
   ]
  },
  {
   "cell_type": "code",
   "execution_count": null,
   "id": "abd0dcce-2a4b-4cc1-abd9-93bc729d4610",
   "metadata": {},
   "outputs": [],
   "source": []
  }
 ],
 "metadata": {
  "kernelspec": {
   "display_name": "Python 3 (ipykernel)",
   "language": "python",
   "name": "python3"
  },
  "language_info": {
   "codemirror_mode": {
    "name": "ipython",
    "version": 3
   },
   "file_extension": ".py",
   "mimetype": "text/x-python",
   "name": "python",
   "nbconvert_exporter": "python",
   "pygments_lexer": "ipython3",
   "version": "3.12.7"
  }
 },
 "nbformat": 4,
 "nbformat_minor": 5
}
