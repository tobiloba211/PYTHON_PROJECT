{
 "cells": [
  {
   "cell_type": "code",
   "execution_count": null,
   "id": "22a7df25",
   "metadata": {},
   "outputs": [],
   "source": [
    "Objective\n",
    "In this checkpoint, we are going to work on the 'Climate change in Africa' dataset that was provided by the U.S global change research program.\n",
    "\n",
    "Dataset description : This dataset contains historical data about the daily min, max and average temperature fluctuation in 5 African countries (Egypt, Tunisia, Cameroon, Senegal, Angola) between 1980 and 2023.\n",
    "\n",
    "➡️ Dataset link\n",
    "\n",
    "\n",
    "\n",
    "Instructions\n",
    "Load the dataset into a data frame using Python.\n",
    "Clean the data as needed.\n",
    "Plot a line chart to show the average temperature fluctuations in Tunisia and Cameroon. Interpret the results.\n",
    "Zoom in to only include data between 1980 and 2005, try to customize the axes labels.\n",
    "Create Histograms to show temperature distribution in Senegal between [1980,2000] and [2000,2023] (in the same figure). Describe the obtained results.\n",
    "Select the best chart to show the Average temperature per country.\n",
    "Make your own questions about the dataset and try to answer them using the appropriate visuals."
   ]
  }
 ],
 "metadata": {
  "kernelspec": {
   "display_name": "Python 3 (ipykernel)",
   "language": "python",
   "name": "python3"
  },
  "language_info": {
   "codemirror_mode": {
    "name": "ipython",
    "version": 3
   },
   "file_extension": ".py",
   "mimetype": "text/x-python",
   "name": "python",
   "nbconvert_exporter": "python",
   "pygments_lexer": "ipython3",
   "version": "3.10.9"
  }
 },
 "nbformat": 4,
 "nbformat_minor": 5
}
