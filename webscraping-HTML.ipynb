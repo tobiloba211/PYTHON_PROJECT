{
 "cells": [
  {
   "cell_type": "code",
   "execution_count": 1,
   "id": "8d25ddd9-813c-4f8b-9589-c2e18d9e89f9",
   "metadata": {},
   "outputs": [],
   "source": [
    "import requests\n",
    "import string\n",
    "from bs4 import BeautifulSoup"
   ]
  },
  {
   "cell_type": "code",
   "execution_count": 2,
   "id": "1cd7dffb-6bf3-4d8d-aed4-7344c7c6ee0d",
   "metadata": {},
   "outputs": [],
   "source": [
    "Enter_input = input(\"Search: \")\n",
    "u_i = string.capwords(Enter_input)\n",
    "lists = u_i.split()\n",
    "word = \"_\".join(lists)"
   ]
  },
  {
   "cell_type": "code",
   "execution_count": 3,
   "id": "79952ddb-1608-4c87-bd9f-28fc9851d0ae",
   "metadata": {},
   "outputs": [],
   "source": [
    "url = \"https://en.wikipedia.org/wiki/\"+word"
   ]
  },
  {
   "cell_type": "code",
   "execution_count": 4,
   "id": "a869d784-2436-4bd8-94f7-94b364c2ec1a",
   "metadata": {},
   "outputs": [],
   "source": [
    "def wikibot(url):\n",
    "    url_open = requests.get(url)\n",
    "    soup = BeautifulSoup(url_open.content,'html.parser')\n",
    "    details = soup('table',{'class':'infobox'})\n",
    "    for i in details:\n",
    "        h = i.find_all('tr')\n",
    "        for j in h:\n",
    "            heading = j.find_all('th')\n",
    "            detail = j.find_all('td')\n",
    "            if heading is not None and detail is not None:\n",
    "                for x,y in zip(heading,detail):\n",
    "                    print(\"{} :: {}\".format(x.text,y.text))\n",
    "                    print(\"-------------------\")\n",
    "        for i in range(1,3):\n",
    "            print(soup('p')[i].text)\n",
    "wikibot(url)"
   ]
  },
  {
   "cell_type": "code",
   "execution_count": 8,
   "id": "0e0b58b3",
   "metadata": {},
   "outputs": [
    {
     "data": {
      "text/plain": [
       "'https://en.wikipedia.org/wiki/'"
      ]
     },
     "execution_count": 8,
     "metadata": {},
     "output_type": "execute_result"
    }
   ],
   "source": [
    "\"https://en.wikipedia.org/wiki/\" "
   ]
  },
  {
   "cell_type": "code",
   "execution_count": 13,
   "id": "08c7a02b",
   "metadata": {},
   "outputs": [
    {
     "name": "stdout",
     "output_type": "stream",
     "text": [
      "Other names :: COVID, (the) coronavirus\n",
      "-------------------\n",
      "Pronunciation :: /kəˈroʊnəvaɪrəs//ˌkoʊvɪdnaɪnˈtiːn, ˌkɒvɪd-/[1] \n",
      "-------------------\n",
      "Specialty :: Infectious disease\n",
      "-------------------\n",
      "Symptoms :: Fever, cough, fatigue, shortness of breath, vomiting, loss of taste or smell; some cases asymptomatic[2][3]\n",
      "-------------------\n",
      "Complications :: Pneumonia, sepsis, ARDS, kidney failure, respiratory failure, pulmonary fibrosis, CKS, MIS-C, long COVID\n",
      "-------------------\n",
      "Usual onset :: 2–14 days (typically 5)after infection\n",
      "-------------------\n",
      "Duration :: 5 days to chronic\n",
      "-------------------\n",
      "Causes :: SARS-CoV-2\n",
      "-------------------\n",
      "Diagnostic method :: RT‑PCR testing, CT scan, rapid antigen test\n",
      "-------------------\n",
      "Prevention :: Vaccination, face coverings, quarantine, social distancing, ventilation, hand washing\n",
      "-------------------\n",
      "Treatment :: Symptomatic and supportive\n",
      "-------------------\n",
      "Frequency :: 777,314,975[4] confirmed cases (true case count is expected to be much higher[5])\n",
      "-------------------\n",
      "Deaths :: 7,083,856[4] (reported)18.2–33.5 million[6] (estimated)\n",
      "-------------------\n",
      "Coronavirus disease 2019 (COVID-19) is a contagious disease caused by the coronavirus SARS-CoV-2. In January 2020, the disease spread worldwide, resulting in the COVID-19 pandemic.\n",
      "\n",
      "The symptoms of COVID‑19 can vary but often include fever,[7] fatigue, cough, breathing difficulties, loss of smell, and loss of taste.[8][9][10] Symptoms may begin one to fourteen days after exposure to the virus. At least a third of people who are infected do not develop noticeable symptoms.[11][12] Of those who develop symptoms noticeable enough to be classified as patients, most (81%) develop mild to moderate symptoms (up to mild pneumonia), while 14% develop severe symptoms (dyspnea, hypoxia, or more than 50% lung involvement on imaging), and 5% develop critical symptoms (respiratory failure, shock, or multiorgan dysfunction).[13] Older people have a higher risk of developing severe symptoms. Some complications result in death. Some people continue to experience a range of effects (long COVID) for months or years after infection, and damage to organs has been observed.[14] Multi-year studies on the long-term effects are ongoing.[15]\n",
      "\n"
     ]
    }
   ],
   "source": [
    "wikibot(\"https://en.wikipedia.org/wiki/COVID-19\")"
   ]
  },
  {
   "cell_type": "code",
   "execution_count": null,
   "id": "22dd499a",
   "metadata": {},
   "outputs": [],
   "source": []
  }
 ],
 "metadata": {
  "kernelspec": {
   "display_name": "base",
   "language": "python",
   "name": "python3"
  },
  "language_info": {
   "codemirror_mode": {
    "name": "ipython",
    "version": 3
   },
   "file_extension": ".py",
   "mimetype": "text/x-python",
   "name": "python",
   "nbconvert_exporter": "python",
   "pygments_lexer": "ipython3",
   "version": "3.12.7"
  }
 },
 "nbformat": 4,
 "nbformat_minor": 5
}
