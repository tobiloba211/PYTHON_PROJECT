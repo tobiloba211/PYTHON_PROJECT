{
 "cells": [
  {
   "cell_type": "markdown",
   "id": "6cb3084c-2bc7-4bfc-ac0a-49b08a138623",
   "metadata": {},
   "source": [
    "What You're Aiming For\n",
    "\n",
    "This ➡️ dataset contains loan information, including loan ID, customer gender, location, region, total price for each loan etc.\n",
    "\n",
    "\n",
    "Instructions\n",
    "\n",
    " \n",
    "\n",
    "Begin by importing the necessary libraries, numpy.\n",
    "Use the open() function to open csv file and assign the result to a variable.\n",
    "Use the numpy array to perform some basic statistical analysis on the data, such as finding the mean, median, and standard deviation of the loan amounts.\n",
    "Note:\n",
    "\n",
    "Be sure to close the file after you have finished reading it in with the open() function.\n",
    "Use the delimiter parameter in the genfromtxt() function to specify that the values in the file are separated by commas.\n",
    "You can use the numpy functions mean(), median(), and std() to find the mean, median, and standard deviation of the loan amounts."
   ]
  },
  {
   "cell_type": "code",
   "execution_count": null,
   "id": "e4144a19-788b-4f6b-9571-125f0b7515ce",
   "metadata": {},
   "outputs": [],
   "source": [
    "#instruction 1-Begin by importing the necessary libraries, numpy.\n",
    "\n",
    "import numpy as np\n",
    "\n",
    "file_path = r\"C:\\Users\\HP\\Downloads\\Loan_prediction_dataset.csv\"\n",
    "\n",
    "data = np.genfromtxt(file_path, delimiter=\",\", skip_header=1)\n",
    "\n",
    "\n",
    "#instruction 2-Use the open() function to open csv file and assign the result to a variable.\n",
    "\n",
    "with open(file_path, \"r\") as file:\n",
    "    print(file.read())\n",
    "\n",
    "#instruction 3-Use the numpy array to perform some basic statistical analysis on the data, such as finding the mean, median, and standard deviation of the loan amounts.\n",
    "\n",
    "loan_amount = data[:,8]\n",
    "\n",
    "print(loan_amount)\n",
    "\n",
    "loan_amount_no_nan = np.nan_to_num(loan_amount)\n",
    "\n",
    "print(loan_amount_no_nan)\n",
    "\n",
    "mean_loan = np.mean(loan_amount_no_nan)\n",
    "\n",
    "median_loan = np.median(loan_amount_no_nan)\n",
    "\n",
    "std_loan = np.std(loan_amount_no_nan)"
   ]
  },
  {
   "cell_type": "code",
   "execution_count": null,
   "id": "e398d3ef-10c6-4d9f-9448-238ec9c8d7f3",
   "metadata": {},
   "outputs": [],
   "source": [
    "print(f\"Mean Loan Amount: {mean_loan:.2f}\")\n",
    "print(f\"Median Loan Amount: {median_loan:.2f}\")\n",
    "print(f\"Standard Deviation of Loan Amounts: {std_loan:.2f}\")"
   ]
  },
  {
   "cell_type": "code",
   "execution_count": null,
   "id": "3d6bd45f-0f8b-4ca7-b313-ee2f35c7ef08",
   "metadata": {},
   "outputs": [],
   "source": []
  },
  {
   "cell_type": "code",
   "execution_count": null,
   "id": "c7a8e905-b087-4ba6-b928-d009ee2f9829",
   "metadata": {},
   "outputs": [],
   "source": []
  }
 ],
 "metadata": {
  "kernelspec": {
   "display_name": "Python 3 (ipykernel)",
   "language": "python",
   "name": "python3"
  },
  "language_info": {
   "codemirror_mode": {
    "name": "ipython",
    "version": 3
   },
   "file_extension": ".py",
   "mimetype": "text/x-python",
   "name": "python",
   "nbconvert_exporter": "python",
   "pygments_lexer": "ipython3",
   "version": "3.12.7"
  }
 },
 "nbformat": 4,
 "nbformat_minor": 5
}
